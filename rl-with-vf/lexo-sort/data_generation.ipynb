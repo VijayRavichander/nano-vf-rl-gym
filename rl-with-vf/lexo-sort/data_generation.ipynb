{
 "cells": [
  {
   "cell_type": "markdown",
   "metadata": {},
   "source": [
    "## Donwloading the Data"
   ]
  },
  {
   "cell_type": "code",
   "execution_count": 45,
   "metadata": {},
   "outputs": [
    {
     "name": "stdout",
     "output_type": "stream",
     "text": [
      "Dataset({\n",
      "    features: ['answer', 'question'],\n",
      "    num_rows: 1000\n",
      "})\n"
     ]
    }
   ],
   "source": [
    "import os \n",
    "from openai import OpenAI\n",
    "from dotenv import load_dotenv\n",
    "from datasets import load_dataset\n",
    "import verifiers as vf\n",
    "\n",
    "\n",
    "load_dotenv()\n",
    "\n",
    "client = OpenAI(base_url = os.getenv(\"DEEPINFRA_API_LINK\"), api_key = os.getenv(\"DEEPINFRA_API_KEY\"));\n",
    "\n",
    "dataset = load_dataset('willcb/V3-wordle', split = \"train\",  cache_dir=None).map(lambda x: {'question': x['answer'], 'answer': \"\".join(sorted(x['answer']))})\n",
    "\n",
    "dataset = dataset.remove_columns([c for c in dataset.column_names if c not in ['question', 'answer']]) #type: ignore\n",
    "\n",
    "## REMOVE THIS TO GENERATE DATA FROM THE ENTIRE DATASET\n",
    "dataset = dataset.select(range(10)) #type:ignore\n",
    "\n",
    "print(dataset)"
   ]
  },
  {
   "cell_type": "code",
   "execution_count": 46,
   "metadata": {},
   "outputs": [
    {
     "data": {
      "text/plain": [
       "{'answer': 'aelnp', 'question': 'plane'}"
      ]
     },
     "execution_count": 46,
     "metadata": {},
     "output_type": "execute_result"
    }
   ],
   "source": [
    "## View the Datasets\n",
    "dataset[0]"
   ]
  },
  {
   "cell_type": "code",
   "execution_count": 47,
   "metadata": {},
   "outputs": [
    {
     "name": "stderr",
     "output_type": "stream",
     "text": [
      "Map (num_proc=32): 100%|██████████| 1000/1000 [00:00<00:00, 3780.99 examples/s]\n"
     ]
    }
   ],
   "source": [
    "## Setting the Parsers, Rubrics and Environment\n",
    "\n",
    "parser = vf.XMLParser(['think', 'answer'], answer_field=\"answer\")\n",
    "\n",
    "system_prompt = f\"\"\"Respond in the following format:\n",
    "{parser.get_format_str()}\n",
    "\n",
    "Sort the string lexographically without using code and give your final answer (the sorted letters) inside <answer></answer> tags\"\"\"\n",
    "\n",
    "def sort_reward_func(completion, answer, **kwargs) -> float:\n",
    "    \"\"\"\n",
    "    Check if the completion is sorted    \n",
    "    \"\"\"\n",
    "    \n",
    "    return 1.0 if parser.parse_answer(completion) == answer else 0.0\n",
    "\n",
    "\n",
    "rubric = vf.Rubric(funcs=[\n",
    "    sort_reward_func,\n",
    "    parser.get_format_reward_func(),\n",
    "], weights=[1.0, 0.2])\n",
    "\n",
    "\n",
    "vf_env = vf.SingleTurnEnv(\n",
    "    dataset=dataset, \n",
    "    eval_dataset=dataset,\n",
    "    system_prompt=system_prompt,\n",
    "    parser=parser,\n",
    "    rubric=rubric,\n",
    "    max_concurrent=100\n",
    ")"
   ]
  },
  {
   "cell_type": "code",
   "execution_count": null,
   "metadata": {},
   "outputs": [
    {
     "name": "stdout",
     "output_type": "stream",
     "text": [
      "<think>\n",
      "To sort the string \"place\" lexicographically (which is similar to alphabetical order), we'll need to arrange its letters in order from smallest to largest based on their Unicode/ASCII values. \n",
      "\n",
      "First, let's list the letters in \"place\" and their corresponding ASCII values:\n",
      "- 'p' → 112\n",
      "- 'l' → 108\n",
      "- 'a' → 97\n",
      "- 'c' → 99\n",
      "- 'e' → 101\n",
      "\n",
      "Now, let's sort these ASCII values in ascending order:\n",
      "1. 'a' (97)\n",
      "2. 'c' (99)\n",
      "3. 'e' (101)\n",
      "4. 'l' (108)\n",
      "5. 'p' (112)\n",
      "\n",
      "So, the sorted order of the letters is 'a', 'c', 'e', 'l', 'p'.\n",
      "</think>\n",
      "<answer>acehp</answer>\n"
     ]
    }
   ],
   "source": [
    "## Sanity Check with API Client\n",
    "response = client.chat.completions.create(\n",
    "    model = \"deepseek-ai/DeepSeek-V3-0324\", \n",
    "    messages = [{\"role\": \"system\", \"content\": system_prompt}, \n",
    "    {\"role\": \"user\", \"content\": \"place\"}]\n",
    ")\n",
    "\n",
    "completion = response.choices[0].message.content\n",
    "\n",
    "print(completion)"
   ]
  },
  {
   "cell_type": "code",
   "execution_count": 35,
   "metadata": {},
   "outputs": [
    {
     "name": "stdout",
     "output_type": "stream",
     "text": [
      "acehp\n",
      "{'sort_reward_func': 1.0, 'format_reward_func': 1.0, 'reward': 1.2}\n"
     ]
    }
   ],
   "source": [
    "# Sanity Check with Parser and Rubrics\n",
    "answer = parser.parse_answer([{\"role\": \"assistant\", \"content\": completion}]) #type: ignore\n",
    "\n",
    "print(answer)\n",
    "\n",
    "reward = await rubric.score_rollout(system_prompt, [{\"role\": \"assistant\", \"content\": completion}], \"acehp\", []) #type: ignore\n",
    "\n",
    "print(reward)"
   ]
  },
  {
   "cell_type": "code",
   "execution_count": 48,
   "metadata": {},
   "outputs": [
    {
     "name": "stderr",
     "output_type": "stream",
     "text": [
      "Running 1000 rollouts: 100%|██████████| 1000/1000 [01:21<00:00, 12.33it/s]\n",
      "Evaluating 1000 rollouts: 100%|██████████| 1000/1000 [00:00<00:00, 1808.67it/s]\n"
     ]
    }
   ],
   "source": [
    "results = vf_env.evaluate(client, model=\"deepseek-ai/DeepSeek-V3-0324\", num_samples = 1000, max_concurrent = 128)"
   ]
  },
  {
   "cell_type": "code",
   "execution_count": 39,
   "metadata": {},
   "outputs": [
    {
     "name": "stdout",
     "output_type": "stream",
     "text": [
      "answer\n",
      "['aelnp', 'aegnr', 'ceipr', 'elops', 'ainpt', 'ceimr', 'aelnp', 'cdlou', 'inopt', 'ainpt']\n",
      "question\n",
      "['plane', 'range', 'price', 'slope', 'paint', 'crime', 'plane', 'cloud', 'point', 'paint']\n",
      "prompt\n",
      "[[{'content': 'Respond in the following format:\\n<think>\\n...\\n</think>\\n<answer>\\n...\\n</answer>\\n\\nSort the string lexographically without using code and give your final answer (the sorted letters) inside <answer></answer> tags', 'role': 'system'}, {'content': 'plane', 'role': 'user'}], [{'content': 'Respond in the following format:\\n<think>\\n...\\n</think>\\n<answer>\\n...\\n</answer>\\n\\nSort the string lexographically without using code and give your final answer (the sorted letters) inside <answer></answer> tags', 'role': 'system'}, {'content': 'range', 'role': 'user'}], [{'content': 'Respond in the following format:\\n<think>\\n...\\n</think>\\n<answer>\\n...\\n</answer>\\n\\nSort the string lexographically without using code and give your final answer (the sorted letters) inside <answer></answer> tags', 'role': 'system'}, {'content': 'price', 'role': 'user'}], [{'content': 'Respond in the following format:\\n<think>\\n...\\n</think>\\n<answer>\\n...\\n</answer>\\n\\nSort the string lexographically without using code and give your final answer (the sorted letters) inside <answer></answer> tags', 'role': 'system'}, {'content': 'slope', 'role': 'user'}], [{'content': 'Respond in the following format:\\n<think>\\n...\\n</think>\\n<answer>\\n...\\n</answer>\\n\\nSort the string lexographically without using code and give your final answer (the sorted letters) inside <answer></answer> tags', 'role': 'system'}, {'content': 'paint', 'role': 'user'}], [{'content': 'Respond in the following format:\\n<think>\\n...\\n</think>\\n<answer>\\n...\\n</answer>\\n\\nSort the string lexographically without using code and give your final answer (the sorted letters) inside <answer></answer> tags', 'role': 'system'}, {'content': 'crime', 'role': 'user'}], [{'content': 'Respond in the following format:\\n<think>\\n...\\n</think>\\n<answer>\\n...\\n</answer>\\n\\nSort the string lexographically without using code and give your final answer (the sorted letters) inside <answer></answer> tags', 'role': 'system'}, {'content': 'plane', 'role': 'user'}], [{'content': 'Respond in the following format:\\n<think>\\n...\\n</think>\\n<answer>\\n...\\n</answer>\\n\\nSort the string lexographically without using code and give your final answer (the sorted letters) inside <answer></answer> tags', 'role': 'system'}, {'content': 'cloud', 'role': 'user'}], [{'content': 'Respond in the following format:\\n<think>\\n...\\n</think>\\n<answer>\\n...\\n</answer>\\n\\nSort the string lexographically without using code and give your final answer (the sorted letters) inside <answer></answer> tags', 'role': 'system'}, {'content': 'point', 'role': 'user'}], [{'content': 'Respond in the following format:\\n<think>\\n...\\n</think>\\n<answer>\\n...\\n</answer>\\n\\nSort the string lexographically without using code and give your final answer (the sorted letters) inside <answer></answer> tags', 'role': 'system'}, {'content': 'paint', 'role': 'user'}]]\n",
      "task\n",
      "['default', 'default', 'default', 'default', 'default', 'default', 'default', 'default', 'default', 'default']\n",
      "info\n",
      "[{}, {}, {}, {}, {}, {}, {}, {}, {}, {}]\n",
      "completion\n",
      "[[{'role': 'assistant', 'content': '<think>\\nTo sort the string \"plane\" lexicographically without using code, we\\'ll follow these steps:\\n\\n1. List all the letters in the string: p, l, a, n, e\\n2. Determine the order of each letter based on their position in the English alphabet:\\n   - a is the 1st letter\\n   - e is the 5th letter\\n   - l is the 12th letter\\n   - n is the 14th letter\\n   - p is the 16th letter\\n3. Sort the letters in ascending order based on their alphabetical positions:\\n   - a\\n   - e\\n   - l\\n   - n\\n   - p\\n</think>\\n<answer>\\naelnp\\n</answer>'}], [{'role': 'assistant', 'content': '<think>\\nTo sort the string \"range\" lexicographically (which is like dictionary order), we\\'ll look at each character one by one and arrange them in ascending order based on their ASCII values.\\n\\nThe letters in \"range\" are: r, a, n, g, e\\n\\nNow, let\\'s list them with their ASCII values:\\n- \\'a\\' = 97\\n- \\'e\\' = 101\\n- \\'g\\' = 103\\n- \\'n\\' = 110\\n- \\'r\\' = 114\\n\\nNow we\\'ll arrange them in ascending order of their ASCII values: a, e, g, n, r\\n</think>\\n<answer>\\naegnr\\n</answer>'}], [{'role': 'assistant', 'content': '<think>\\nTo sort the string \"price\" lexicographically (which is essentially alphabetical order), we need to arrange its letters in ascending order based on their position in the alphabet. Here are the letters in \"price\":\\n\\n1. p\\n2. r\\n3. i\\n4. c\\n5. e\\n\\nNow, let\\'s order them alphabetically:\\n- c comes first (alphabetically earliest)\\n- e comes next\\n- i comes after e\\n- p comes after i\\n- r comes last (alphabetically latest)\\n\\nSo the correct order is: c, e, i, p, r.\\n</think>\\n\\n<answer>\\nceipr\\n</answer>'}], [{'role': 'assistant', 'content': '<think>\\nTo sort the word \"slope\" lexicographically (which is like dictionary order), I\\'ll list out each letter and then arrange them from smallest to largest based on their position in the English alphabet.\\n\\nThe letters in \"slope\" are:\\n- s\\n- l\\n- o\\n- p\\n- e\\n\\nNow, let\\'s find the order of each letter in the alphabet:\\n- e is the 5th letter\\n- l is the 12th letter\\n- o is the 15th letter\\n- p is the 16th letter\\n- s is the 19th letter\\n\\nNow, sorting them in ascending order:\\n1. e (5)\\n2. l (12)\\n3. o (15)\\n4. p (16)\\n5. s (19)\\n\\nSo, the sorted order is: e, l, o, p, s.\\n</think>\\n<answer>\\nelops\\n</answer>'}], [{'role': 'assistant', 'content': '<think>\\nTo sort the string \"paint\" lexicographically (which is essentially alphabetical order), we need to arrange its letters from the smallest to the largest based on their alphabetical sequence. \\n\\nThe letters in \"paint\" are: p, a, i, n, t.\\n\\nNow, let\\'s list them in alphabetical order:\\n1. The smallest letter is \\'a\\'.\\n2. Next is \\'i\\'.\\n3. Then \\'n\\'.\\n4. Followed by \\'p\\'.\\n5. Finally, \\'t\\'.\\n\\nSo, the sorted order should be: a, i, n, p, t.\\n</think>\\n<answer>\\nainpt\\n</answer>'}], [{'role': 'assistant', 'content': '<think>\\nTo sort the string \"crime\" lexicographically (which is essentially alphabetical order), we need to arrange its letters in ascending order based on their position in the English alphabet. \\n\\nFirst, let\\'s list out the letters in \"crime\" and their order in the alphabet:\\n- c (3)\\n- r (18)\\n- i (9)\\n- m (13)\\n- e (5)\\n\\nNow, let\\'s sort these letters based on their alphabetical order:\\n1. c (3)\\n2. e (5)\\n3. i (9)\\n4. m (13)\\n5. r (18)\\n\\nSo, the sorted order is: c, e, i, m, r.\\n</think>\\n<answer>\\nceimr\\n</answer>'}], [{'role': 'assistant', 'content': '<think>\\nTo sort the string \"plane\" lexicographically, we need to arrange its letters in alphabetical order. The word \"plane\" consists of the letters: p, l, a, n, e.\\n\\nFirst, let\\'s list the letters:\\n1. p\\n2. l\\n3. a\\n4. n\\n5. e\\n\\nNow, let\\'s arrange them in alphabetical order:\\n- The smallest letter is \\'a\\'\\n- Next is \\'e\\'\\n- Then \\'l\\'\\n- Then \\'n\\'\\n- Finally \\'p\\'\\n\\nSo the sorted order should be: a, e, l, n, p\\n</think>\\n<answer>\\naelnp\\n</answer>'}], [{'role': 'assistant', 'content': '<think>\\nTo sort the string \"cloud\" lexicographically (i.e., in dictionary order), we need to arrange its individual letters in ascending order based on their Unicode/ASCII values. Here\\'s the process:\\n\\n1. List the individual letters of \"cloud\":\\n   - \\'c\\', \\'l\\', \\'o\\', \\'u\\', \\'d\\'\\n\\n2. Determine the ASCII/Unicode values for each letter to compare them:\\n   - \\'c\\' = 99\\n   - \\'d\\' = 100\\n   - \\'l\\' = 108\\n   - \\'o\\' = 111\\n   - \\'u\\' = 117\\n\\n3. Sort the letters based on their ASCII values:\\n   - \\'c\\' (99), \\'d\\' (100), \\'l\\' (108), \\'o\\' (111), \\'u\\' (117)\\n\\n4. The sorted order is: \\'c\\', \\'d\\', \\'l\\', \\'o\\', \\'u\\'.\\n</think>\\n<answer>\\ncdlou\\n</answer>'}], [{'role': 'assistant', 'content': '<think>\\nTo sort the string \"point\" lexicographically, we need to arrange its letters in alphabetical order. \\n\\nThe letters in \"point\" are: p, o, i, n, t.\\n\\nNow let\\'s arrange them alphabetically:\\n1. \\'i\\' comes first.\\n2. \\'n\\' comes next.\\n3. \\'o\\' follows.\\n4. \\'p\\' comes after \\'o\\'.\\n5. \\'t\\' is the last letter.\\n\\nSo the sorted order should be: i, n, o, p, t.\\n</think>\\n<answer>\\ninopt\\n</answer>'}], [{'role': 'assistant', 'content': '<think>\\nTo sort the string \"paint\" lexicographically without using code, I\\'ll follow these steps:\\n\\n1. List all the letters in the word: p, a, i, n, t\\n2. Recall that lexicographical order is similar to dictionary order, where letters are compared based on their position in the alphabet.\\n3. The correct alphabetical order of these letters is: a, i, n, p, t\\n\\nLet me verify:\\n- \\'a\\' comes first in the alphabet\\n- \\'i\\' comes after \\'a\\' and before \\'n\\'\\n- \\'n\\' comes after \\'i\\' and before \\'p\\'\\n- \\'p\\' comes after \\'n\\' and before \\'t\\'\\n- \\'t\\' comes last\\n</think>\\n\\n<answer>\\nainpt\\n</answer>'}]]\n",
      "state\n",
      "[{}, {}, {}, {}, {}, {}, {}, {}, {}, {}]\n",
      "sort_reward_func\n",
      "[1.0, 1.0, 1.0, 1.0, 1.0, 1.0, 1.0, 1.0, 1.0, 1.0]\n",
      "format_reward_func\n",
      "[1.0, 1.0, 1.0, 1.0, 1.0, 1.0, 1.0, 1.0, 1.0, 1.0]\n",
      "reward\n",
      "[1.2, 1.2, 1.2, 1.2, 1.2, 1.2, 1.2, 1.2, 1.2, 1.2]\n"
     ]
    }
   ],
   "source": [
    "for k,v in results.items():\n",
    "    print(k)\n",
    "    print(v)"
   ]
  },
  {
   "cell_type": "code",
   "execution_count": 49,
   "metadata": {},
   "outputs": [],
   "source": [
    "dataset_dsv3 = vf_env.make_dataset(results)"
   ]
  },
  {
   "cell_type": "code",
   "execution_count": 50,
   "metadata": {},
   "outputs": [
    {
     "data": {
      "text/plain": [
       "Dataset({\n",
       "    features: ['prompt', 'completion', 'answer', 'reward', 'task'],\n",
       "    num_rows: 1000\n",
       "})"
      ]
     },
     "execution_count": 50,
     "metadata": {},
     "output_type": "execute_result"
    }
   ],
   "source": [
    "dataset_dsv3"
   ]
  },
  {
   "cell_type": "code",
   "execution_count": 51,
   "metadata": {},
   "outputs": [],
   "source": [
    "dataset_dsv3 = dataset_dsv3.sort(\"reward\", reverse=True)"
   ]
  },
  {
   "cell_type": "code",
   "execution_count": 52,
   "metadata": {},
   "outputs": [
    {
     "name": "stderr",
     "output_type": "stream",
     "text": [
      "Creating parquet from Arrow format: 100%|██████████| 1/1 [00:00<00:00, 19.55ba/s]\n",
      "Uploading the dataset shards: 100%|██████████| 1/1 [00:01<00:00,  1.16s/it]\n"
     ]
    },
    {
     "data": {
      "text/plain": [
       "CommitInfo(commit_url='https://huggingface.co/datasets/vijay-ravichander/V3-lexo-sort/commit/2237e418fef0c9dcd6eeb64f09481fcdaeed2ad0', commit_message='Upload dataset', commit_description='', oid='2237e418fef0c9dcd6eeb64f09481fcdaeed2ad0', pr_url=None, repo_url=RepoUrl('https://huggingface.co/datasets/vijay-ravichander/V3-lexo-sort', endpoint='https://huggingface.co', repo_type='dataset', repo_id='vijay-ravichander/V3-lexo-sort'), pr_revision=None, pr_num=None)"
      ]
     },
     "execution_count": 52,
     "metadata": {},
     "output_type": "execute_result"
    }
   ],
   "source": [
    "dataset_dsv3.push_to_hub(\"V3-lexo-sort\")"
   ]
  }
 ],
 "metadata": {
  "kernelspec": {
   "display_name": "rl-agents-will",
   "language": "python",
   "name": "rl-agents-intro-will"
  },
  "language_info": {
   "codemirror_mode": {
    "name": "ipython",
    "version": 3
   },
   "file_extension": ".py",
   "mimetype": "text/x-python",
   "name": "python",
   "nbconvert_exporter": "python",
   "pygments_lexer": "ipython3",
   "version": "3.11.6"
  }
 },
 "nbformat": 4,
 "nbformat_minor": 2
}
